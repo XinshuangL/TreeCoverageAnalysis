{
 "cells": [
  {
   "cell_type": "markdown",
   "metadata": {},
   "source": [
    "# Tree Loss Prediction with Gaussian Process Regression\n",
    "This notebook predicts the tree loss of a country in a given year based on the Gaussian process regression model. The Gaussian process regression model is a very powerful non-parametric Bayesian model, which takes minimal assumptions for the data. Furthermore, it can provide the uncertainty of the prediction, which is useful for future analysis and decision making.\n",
    "\n",
    "- Author: Xinshuang Liu\n",
    "- Email: xil235@ucsd.edu"
   ]
  },
  {
   "cell_type": "code",
   "execution_count": 52,
   "metadata": {},
   "outputs": [],
   "source": [
    "from dataset import TreeCoverLossDataset\n",
    "import numpy as np\n",
    "from sklearn.gaussian_process import GaussianProcessRegressor\n",
    "from sklearn.gaussian_process.kernels import DotProduct, WhiteKernel\n",
    "import math\n",
    "import warnings\n",
    "warnings.filterwarnings(\"ignore\")"
   ]
  },
  {
   "cell_type": "code",
   "execution_count": 53,
   "metadata": {},
   "outputs": [],
   "source": [
    "def gp_prediction(x_train, y_train, x_test):\n",
    "    kernel = DotProduct() + WhiteKernel()\n",
    "    gpr = GaussianProcessRegressor(kernel=kernel, n_restarts_optimizer=10)\n",
    "    x_train = np.array(x_train).reshape(-1, 1)\n",
    "    y_train = np.array(y_train).reshape(-1, 1)\n",
    "    x_test = np.array(x_test).reshape(-1, 1)\n",
    "    gpr.fit(x_train, y_train)\n",
    "    y_pred, y_std = gpr.predict(x_test, return_std=True)\n",
    "    return y_pred, y_std\n",
    "\n",
    "def eval_prediction(y_pred, y_test):\n",
    "    mse = np.mean((y_pred - np.array(y_test)) ** 2)\n",
    "    return mse\n",
    "\n",
    "def eval_gp_model(dataset, mode):\n",
    "    target_pos = 1 if mode == \"tree_loss\" else 2\n",
    "    mse_list = []\n",
    "    for train_data, test_data, country in dataset:\n",
    "        if len(train_data) == 0 or len(test_data) == 0:\n",
    "            continue\n",
    "        x_train = train_data[:, 0]\n",
    "        y_train = train_data[:, target_pos]\n",
    "        x_test = test_data[:, 0]\n",
    "        y_test = test_data[:, target_pos]\n",
    "        y_pred, y_std = gp_prediction(x_train, y_train, x_test)\n",
    "        mse = eval_prediction(y_pred, y_test)\n",
    "        mse_list.append(mse)\n",
    "    return math.sqrt(sum(mse_list) / len(mse_list))\n"
   ]
  },
  {
   "cell_type": "code",
   "execution_count": 54,
   "metadata": {},
   "outputs": [
    {
     "name": "stdout",
     "output_type": "stream",
     "text": [
      "RMSE: 208067.93602323104, TreeCoverLoss_2001-2020_ByRegion, tree loss prediction\n",
      "RMSE: 83548704.11298247, TreeCoverLoss_2001-2020_ByRegion, co2 prediction\n"
     ]
    }
   ],
   "source": [
    "dataset = TreeCoverLossDataset(\"TreeCoverLoss_2001-2020_ByRegion.csv\", split_train_test=True)\n",
    "mse = eval_gp_model(dataset, \"tree_loss\")\n",
    "print(f'RMSE: {mse}, TreeCoverLoss_2001-2020_ByRegion, tree loss prediction')\n",
    "mse = eval_gp_model(dataset, \"co2\")\n",
    "print(f'RMSE: {mse}, TreeCoverLoss_2001-2020_ByRegion, co2 prediction')"
   ]
  },
  {
   "cell_type": "code",
   "execution_count": 55,
   "metadata": {},
   "outputs": [
    {
     "name": "stdout",
     "output_type": "stream",
     "text": [
      "RMSE: 78798.8782742828, TreeCoverLoss_2001-2020 _InPrimaryForest, tree loss prediction\n",
      "RMSE: 52458708.48116069, TreeCoverLoss_2001-2020 _InPrimaryForest, co2 prediction\n"
     ]
    }
   ],
   "source": [
    "dataset = TreeCoverLossDataset(\"TreeCoverLoss_2001-2020 _InPrimaryForest.csv\", split_train_test=True)\n",
    "mse = eval_gp_model(dataset, \"tree_loss\")\n",
    "print(f'RMSE: {mse}, TreeCoverLoss_2001-2020 _InPrimaryForest, tree loss prediction')\n",
    "mse = eval_gp_model(dataset, \"co2\")\n",
    "print(f'RMSE: {mse}, TreeCoverLoss_2001-2020 _InPrimaryForest, co2 prediction')"
   ]
  },
  {
   "cell_type": "markdown",
   "metadata": {},
   "source": [
    "## Conclusion\n",
    "- In this notebook, the Gaussian process regression model predicted the tree loss and co2 emission of a country in a given year after 2010, based on the data before 2010 (include 2010). The RMSE of the prediction for both tree loss and co2 emission are significantly smaller than the variance of the data. This indicates that the Gaussian process regression model is effective for this task. \n",
    "- Furthermore, the std value predicted by the model provides a good estimation of the uncertainty of the prediction---a relatively small std value indicates a high confidence in the prediction."
   ]
  }
 ],
 "metadata": {
  "kernelspec": {
   "display_name": "Python 3",
   "language": "python",
   "name": "python3"
  },
  "language_info": {
   "codemirror_mode": {
    "name": "ipython",
    "version": 3
   },
   "file_extension": ".py",
   "mimetype": "text/x-python",
   "name": "python",
   "nbconvert_exporter": "python",
   "pygments_lexer": "ipython3",
   "version": "3.10.8"
  }
 },
 "nbformat": 4,
 "nbformat_minor": 2
}
