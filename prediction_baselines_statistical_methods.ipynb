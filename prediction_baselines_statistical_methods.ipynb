{
 "cells": [
  {
   "cell_type": "markdown",
   "metadata": {},
   "source": [
    "# Prediction Baseline Methods\n",
    "This notebook contains four statistical baseline methods for tree loss and co2 prediction.\n",
    "\n",
    "For statistical methods, there are four baseline methods to predict the values:\n",
    "- Baseline 1: Global mean\n",
    "- Baseline 2: Local mean\n",
    "- Baseline 3: Latest value\n",
    "- Baseline 4: Mixture of local mean and latest value\n",
    "\n",
    "The reason of using \"mixture of local mean and latest value\" is because I find the global mean performs bad.\n",
    "\n",
    "- Author: Xinshuang Liu\n",
    "- Email: xil235@ucsd.edu"
   ]
  },
  {
   "cell_type": "code",
   "execution_count": 3,
   "metadata": {},
   "outputs": [],
   "source": [
    "from dataset import TreeCoverLossDataset, DriverTypeDataset\n",
    "import numpy as np\n",
    "import math\n",
    "import warnings\n",
    "\n",
    "warnings.filterwarnings(\"ignore\")"
   ]
  },
  {
   "cell_type": "code",
   "execution_count": 4,
   "metadata": {},
   "outputs": [],
   "source": [
    "def eval_prediction(y_pred, y_test):\n",
    "    mse = np.mean((y_pred - np.array(y_test)) ** 2)\n",
    "    return mse\n",
    "\n",
    "def eval_gp_model(dataset, mode, model, params):\n",
    "    target_pos = 1 if mode == \"tree_loss\" else 2\n",
    "    mse_list = []\n",
    "    for train_data, test_data, _ in dataset:\n",
    "        if len(train_data) == 0 or len(test_data) == 0:\n",
    "            continue\n",
    "        x_train = train_data[:, 0]\n",
    "        y_train = train_data[:, target_pos]\n",
    "        x_test = test_data[:, 0]\n",
    "        y_test = test_data[:, target_pos]\n",
    "        y_pred = model(x_train, y_train, x_test, params)\n",
    "        mse = eval_prediction(y_pred, y_test)\n",
    "        mse_list.append(mse)\n",
    "    return math.sqrt(sum(mse_list) / len(mse_list))"
   ]
  },
  {
   "cell_type": "markdown",
   "metadata": {},
   "source": [
    "## Baseline Method 1: Global Mean"
   ]
  },
  {
   "cell_type": "code",
   "execution_count": 5,
   "metadata": {},
   "outputs": [],
   "source": [
    "def baseline1(x_train, y_train, x_test, params):\n",
    "    global_mean = params['global_mean']\n",
    "    y_pred = np.zeros_like(x_test) + global_mean\n",
    "    return y_pred"
   ]
  },
  {
   "cell_type": "code",
   "execution_count": 12,
   "metadata": {},
   "outputs": [],
   "source": [
    "def get_target_mean(dataset, pos):\n",
    "    sum_value = 0\n",
    "    count_value = 0\n",
    "    for train_data, test_data, _ in dataset:\n",
    "        try:\n",
    "            sum_value += float(train_data[:, pos].sum())\n",
    "            count_value += train_data[:, pos].shape[0]\n",
    "        except:\n",
    "            pass\n",
    "    return sum_value / count_value\n"
   ]
  },
  {
   "cell_type": "code",
   "execution_count": 7,
   "metadata": {},
   "outputs": [
    {
     "name": "stdout",
     "output_type": "stream",
     "text": [
      "RMSE: 470781.58047442767, TreeCoverLoss_2001-2020_ByRegion, tree loss prediction\n",
      "RMSE: 188727088.85231075, TreeCoverLoss_2001-2020_ByRegion, co2 prediction\n"
     ]
    }
   ],
   "source": [
    "dataset = TreeCoverLossDataset(\"TreeCoverLoss_2001-2020_ByRegion.csv\", split_train_test=True)\n",
    "\n",
    "global_mean = get_target_mean(dataset, 1)\n",
    "mse = eval_gp_model(dataset, \"tree_loss\", baseline1, {'global_mean': global_mean})\n",
    "print(f'RMSE: {mse}, TreeCoverLoss_2001-2020_ByRegion, tree loss prediction')\n",
    "global_mean = get_target_mean(dataset, 2)\n",
    "mse = eval_gp_model(dataset, \"co2\", baseline1, {'global_mean': global_mean})\n",
    "print(f'RMSE: {mse}, TreeCoverLoss_2001-2020_ByRegion, co2 prediction')"
   ]
  },
  {
   "cell_type": "code",
   "execution_count": 13,
   "metadata": {},
   "outputs": [
    {
     "name": "stdout",
     "output_type": "stream",
     "text": [
      "RMSE: 170088.5484400669, TreeCoverLoss_2001-2020 _InPrimaryForest, tree loss prediction\n",
      "RMSE: 114121367.39829747, TreeCoverLoss_2001-2020 _InPrimaryForest, co2 prediction\n"
     ]
    }
   ],
   "source": [
    "dataset = TreeCoverLossDataset(\"TreeCoverLoss_2001-2020 _InPrimaryForest.csv\", split_train_test=True)\n",
    "\n",
    "global_mean = get_target_mean(dataset, 1)\n",
    "mse = eval_gp_model(dataset, \"tree_loss\", baseline1, {'global_mean': global_mean})\n",
    "print(f'RMSE: {mse}, TreeCoverLoss_2001-2020 _InPrimaryForest, tree loss prediction')\n",
    "global_mean = get_target_mean(dataset, 2)\n",
    "mse = eval_gp_model(dataset, \"co2\", baseline1, {'global_mean': global_mean})\n",
    "print(f'RMSE: {mse}, TreeCoverLoss_2001-2020 _InPrimaryForest, co2 prediction')"
   ]
  },
  {
   "cell_type": "markdown",
   "metadata": {},
   "source": [
    "## Baseline Method 2: Local Mean"
   ]
  },
  {
   "cell_type": "code",
   "execution_count": 18,
   "metadata": {},
   "outputs": [],
   "source": [
    "def baseline2(x_train, y_train, x_test, params):\n",
    "    local_mean = y_train.mean()\n",
    "    y_pred = np.zeros_like(x_test) + float(local_mean)\n",
    "    return y_pred"
   ]
  },
  {
   "cell_type": "code",
   "execution_count": 19,
   "metadata": {},
   "outputs": [
    {
     "name": "stdout",
     "output_type": "stream",
     "text": [
      "RMSE: 207933.20525438452, TreeCoverLoss_2001-2020_ByRegion, tree loss prediction\n",
      "RMSE: 83411307.6336327, TreeCoverLoss_2001-2020_ByRegion, co2 prediction\n"
     ]
    }
   ],
   "source": [
    "dataset = TreeCoverLossDataset(\"TreeCoverLoss_2001-2020_ByRegion.csv\", split_train_test=True)\n",
    "\n",
    "mse = eval_gp_model(dataset, \"tree_loss\", baseline2, None)\n",
    "print(f'RMSE: {mse}, TreeCoverLoss_2001-2020_ByRegion, tree loss prediction')\n",
    "mse = eval_gp_model(dataset, \"co2\", baseline2, None)\n",
    "print(f'RMSE: {mse}, TreeCoverLoss_2001-2020_ByRegion, co2 prediction')"
   ]
  },
  {
   "cell_type": "code",
   "execution_count": 20,
   "metadata": {},
   "outputs": [
    {
     "name": "stdout",
     "output_type": "stream",
     "text": [
      "RMSE: 78740.57695681795, TreeCoverLoss_2001-2020 _InPrimaryForest, tree loss prediction\n",
      "RMSE: 52346951.530306235, TreeCoverLoss_2001-2020 _InPrimaryForest, co2 prediction\n"
     ]
    }
   ],
   "source": [
    "dataset = TreeCoverLossDataset(\"TreeCoverLoss_2001-2020 _InPrimaryForest.csv\", split_train_test=True)\n",
    "\n",
    "mse = eval_gp_model(dataset, \"tree_loss\", baseline2, None)\n",
    "print(f'RMSE: {mse}, TreeCoverLoss_2001-2020 _InPrimaryForest, tree loss prediction')\n",
    "mse = eval_gp_model(dataset, \"co2\", baseline2, None)\n",
    "print(f'RMSE: {mse}, TreeCoverLoss_2001-2020 _InPrimaryForest, co2 prediction')"
   ]
  },
  {
   "cell_type": "markdown",
   "metadata": {},
   "source": [
    "## Baseline Method 3: Latest"
   ]
  },
  {
   "cell_type": "code",
   "execution_count": 21,
   "metadata": {},
   "outputs": [],
   "source": [
    "def baseline3(x_train, y_train, x_test, params):\n",
    "    latest = y_train.view(-1)[-1]\n",
    "    y_pred = np.zeros_like(x_test) + float(latest)\n",
    "    return y_pred"
   ]
  },
  {
   "cell_type": "code",
   "execution_count": 22,
   "metadata": {},
   "outputs": [
    {
     "name": "stdout",
     "output_type": "stream",
     "text": [
      "RMSE: 233968.2737682843, TreeCoverLoss_2001-2020_ByRegion, tree loss prediction\n",
      "RMSE: 78785990.06862164, TreeCoverLoss_2001-2020_ByRegion, co2 prediction\n"
     ]
    }
   ],
   "source": [
    "dataset = TreeCoverLossDataset(\"TreeCoverLoss_2001-2020_ByRegion.csv\", split_train_test=True)\n",
    "\n",
    "mse = eval_gp_model(dataset, \"tree_loss\", baseline3, None)\n",
    "print(f'RMSE: {mse}, TreeCoverLoss_2001-2020_ByRegion, tree loss prediction')\n",
    "mse = eval_gp_model(dataset, \"co2\", baseline3, None)\n",
    "print(f'RMSE: {mse}, TreeCoverLoss_2001-2020_ByRegion, co2 prediction')"
   ]
  },
  {
   "cell_type": "code",
   "execution_count": 24,
   "metadata": {},
   "outputs": [
    {
     "name": "stdout",
     "output_type": "stream",
     "text": [
      "RMSE: 77365.35585083769, TreeCoverLoss_2001-2020 _InPrimaryForest, tree loss prediction\n",
      "RMSE: 51592066.54038596, TreeCoverLoss_2001-2020 _InPrimaryForest, co2 prediction\n"
     ]
    }
   ],
   "source": [
    "dataset = TreeCoverLossDataset(\"TreeCoverLoss_2001-2020 _InPrimaryForest.csv\", split_train_test=True)\n",
    "\n",
    "mse = eval_gp_model(dataset, \"tree_loss\", baseline3, None)\n",
    "print(f'RMSE: {mse}, TreeCoverLoss_2001-2020 _InPrimaryForest, tree loss prediction')\n",
    "mse = eval_gp_model(dataset, \"co2\", baseline3, None)\n",
    "print(f'RMSE: {mse}, TreeCoverLoss_2001-2020 _InPrimaryForest, co2 prediction')"
   ]
  },
  {
   "cell_type": "markdown",
   "metadata": {},
   "source": [
    "## Baseline Method 4: Mixture of Local Mean and Latest Value"
   ]
  },
  {
   "cell_type": "code",
   "execution_count": 25,
   "metadata": {},
   "outputs": [],
   "source": [
    "def baseline4(x_train, y_train, x_test, params):\n",
    "    return (baseline2(x_train, y_train, x_test, params) + baseline3(x_train, y_train, x_test, params)) / 2"
   ]
  },
  {
   "cell_type": "code",
   "execution_count": 26,
   "metadata": {},
   "outputs": [
    {
     "name": "stdout",
     "output_type": "stream",
     "text": [
      "RMSE: 219458.53290041632, TreeCoverLoss_2001-2020_ByRegion, tree loss prediction\n",
      "RMSE: 80387962.65496935, TreeCoverLoss_2001-2020_ByRegion, co2 prediction\n"
     ]
    }
   ],
   "source": [
    "dataset = TreeCoverLossDataset(\"TreeCoverLoss_2001-2020_ByRegion.csv\", split_train_test=True)\n",
    "\n",
    "mse = eval_gp_model(dataset, \"tree_loss\", baseline4, None)\n",
    "print(f'RMSE: {mse}, TreeCoverLoss_2001-2020_ByRegion, tree loss prediction')\n",
    "mse = eval_gp_model(dataset, \"co2\", baseline4, None)\n",
    "print(f'RMSE: {mse}, TreeCoverLoss_2001-2020_ByRegion, co2 prediction')"
   ]
  },
  {
   "cell_type": "code",
   "execution_count": 27,
   "metadata": {},
   "outputs": [
    {
     "name": "stdout",
     "output_type": "stream",
     "text": [
      "RMSE: 76739.78856327367, TreeCoverLoss_2001-2020 _InPrimaryForest, tree loss prediction\n",
      "RMSE: 50891653.39616664, TreeCoverLoss_2001-2020 _InPrimaryForest, co2 prediction\n"
     ]
    }
   ],
   "source": [
    "dataset = TreeCoverLossDataset(\"TreeCoverLoss_2001-2020 _InPrimaryForest.csv\", split_train_test=True)\n",
    "\n",
    "mse = eval_gp_model(dataset, \"tree_loss\", baseline4, None)\n",
    "print(f'RMSE: {mse}, TreeCoverLoss_2001-2020 _InPrimaryForest, tree loss prediction')\n",
    "mse = eval_gp_model(dataset, \"co2\", baseline4, None)\n",
    "print(f'RMSE: {mse}, TreeCoverLoss_2001-2020 _InPrimaryForest, co2 prediction')"
   ]
  }
 ],
 "metadata": {
  "kernelspec": {
   "display_name": "Python 3",
   "language": "python",
   "name": "python3"
  },
  "language_info": {
   "codemirror_mode": {
    "name": "ipython",
    "version": 3
   },
   "file_extension": ".py",
   "mimetype": "text/x-python",
   "name": "python",
   "nbconvert_exporter": "python",
   "pygments_lexer": "ipython3",
   "version": "3.10.8"
  }
 },
 "nbformat": 4,
 "nbformat_minor": 2
}
